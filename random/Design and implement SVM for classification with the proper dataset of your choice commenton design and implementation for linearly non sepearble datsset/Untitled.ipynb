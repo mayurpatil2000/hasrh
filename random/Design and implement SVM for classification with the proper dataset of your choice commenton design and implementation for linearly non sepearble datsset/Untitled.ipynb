{
 "cells": [
  {
   "cell_type": "code",
   "execution_count": 1,
   "id": "dd166c35",
   "metadata": {},
   "outputs": [
    {
     "data": {
      "text/plain": [
       "Salary\n",
       " <=50K    22653\n",
       " >50K      7508\n",
       "Name: count, dtype: int64"
      ]
     },
     "execution_count": 1,
     "metadata": {},
     "output_type": "execute_result"
    }
   ],
   "source": [
    "#importing required libraries\n",
    "import pandas as pd\n",
    "import numpy as np\n",
    "import matplotlib.pyplot as plt\n",
    "import seaborn as sns\n",
    "train= pd.read_csv(\"SalaryData_Train.csv\")\n",
    "test= pd.read_csv(\"SalaryData_Train.csv\")\n",
    "from sklearn.preprocessing import LabelEncoder\n",
    "lb = LabelEncoder()\n",
    "train.education = lb.fit_transform(train.education)\n",
    "test.education = lb.fit_transform(test.education)\n",
    "train= pd.get_dummies(train,columns=[\"workclass\",\"maritalstatus\",\"occupation\",\"relationship\",\"race\",\"sex\",\"native\"])\n",
    "test = pd.get_dummies(test,columns=[\"workclass\",\"maritalstatus\",\"occupation\",\"relationship\",\"race\",\"sex\",\"native\"])\n",
    "train.Salary.value_counts()"
   ]
  },
  {
   "cell_type": "code",
   "execution_count": 2,
   "id": "88878ccd",
   "metadata": {},
   "outputs": [
    {
     "name": "stderr",
     "output_type": "stream",
     "text": [
      "C:\\Users\\HP\\anaconda3\\Lib\\site-packages\\sklearn\\svm\\_base.py:297: ConvergenceWarning: Solver terminated early (max_iter=100000).  Consider pre-processing your data with StandardScaler or MinMaxScaler.\n",
      "  warnings.warn(\n"
     ]
    },
    {
     "data": {
      "text/plain": [
       "0.23885149696628097"
      ]
     },
     "execution_count": 2,
     "metadata": {},
     "output_type": "execute_result"
    }
   ],
   "source": [
    "x_train = train.drop(\"Salary\",axis=1)\n",
    "x_test = test.drop(\"Salary\",axis = 1)\n",
    "y_train = train.Salary\n",
    "y_test = test.Salary\n",
    "#Linear model\n",
    "from sklearn.svm import SVC\n",
    "model1 = SVC(kernel=\"linear\",max_iter=100000)\n",
    "model1.fit(x_train,y_train)\n",
    "test_pred = model1.predict(x_test)\n",
    "linear_accuracy = np.mean(y_test == test_pred)\n",
    "linear_accuracy"
   ]
  },
  {
   "cell_type": "code",
   "execution_count": 3,
   "id": "929fecf2",
   "metadata": {},
   "outputs": [
    {
     "data": {
      "text/plain": [
       "0.7960279831570571"
      ]
     },
     "execution_count": 3,
     "metadata": {},
     "output_type": "execute_result"
    }
   ],
   "source": [
    "# rgf Model\n",
    "model2 = SVC(kernel=\"rbf\",max_iter=150000)\n",
    "model2.fit(x_train,y_train)\n",
    "rbf_pred=model2.predict(x_test)\n",
    "rbf_accuracy = np.mean(y_test == rbf_pred)\n",
    "rbf_accuracy"
   ]
  },
  {
   "cell_type": "code",
   "execution_count": 4,
   "id": "0a176bd4",
   "metadata": {},
   "outputs": [
    {
     "data": {
      "text/plain": [
       "0.7769304731275488"
      ]
     },
     "execution_count": 4,
     "metadata": {},
     "output_type": "execute_result"
    }
   ],
   "source": [
    "#Poly Model\n",
    "model3 = SVC(kernel=\"poly\",max_iter=100000)\n",
    "model3.fit(x_train,y_train)\n",
    "poly_pred = model3.predict(x_test)\n",
    "poly_pred = model3.predict(x_test)\n",
    "poly_accuracy = np.mean(y_test == poly_pred)\n",
    "poly_accuracy"
   ]
  },
  {
   "cell_type": "code",
   "execution_count": 5,
   "id": "c4f7be5e",
   "metadata": {},
   "outputs": [
    {
     "data": {
      "text/plain": [
       "0.7558104837372767"
      ]
     },
     "execution_count": 5,
     "metadata": {},
     "output_type": "execute_result"
    }
   ],
   "source": [
    "# Sigmoid Model\n",
    "model4 = SVC(kernel=\"sigmoid\",max_iter=100000)\n",
    "model4.fit(x_train,y_train)\n",
    "sigmoid_pred=model4.predict(x_test)\n",
    "sig_accuracy = np.mean(y_test == sigmoid_pred)\n",
    "sig_accuracy"
   ]
  },
  {
   "cell_type": "code",
   "execution_count": 6,
   "id": "1b7281c5",
   "metadata": {},
   "outputs": [],
   "source": [
    "results = pd.DataFrame({\"linear_model\": linear_accuracy,\"rbf_model\": rbf_accuracy,\"poly_accuracy\":poly_accuracy,\"sigmoid_accuracy\":sig_accuracy},index=[\"Accuracy\"])"
   ]
  }
 ],
 "metadata": {
  "kernelspec": {
   "display_name": "Python 3 (ipykernel)",
   "language": "python",
   "name": "python3"
  },
  "language_info": {
   "codemirror_mode": {
    "name": "ipython",
    "version": 3
   },
   "file_extension": ".py",
   "mimetype": "text/x-python",
   "name": "python",
   "nbconvert_exporter": "python",
   "pygments_lexer": "ipython3",
   "version": "3.11.5"
  }
 },
 "nbformat": 4,
 "nbformat_minor": 5
}
