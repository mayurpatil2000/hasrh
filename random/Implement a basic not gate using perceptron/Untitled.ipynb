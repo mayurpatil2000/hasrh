{
 "cells": [
  {
   "cell_type": "code",
   "execution_count": 2,
   "id": "335ca1da",
   "metadata": {},
   "outputs": [
    {
     "name": "stdout",
     "output_type": "stream",
     "text": [
      "NOT(1) = 0\n",
      "NOT(0) = 1\n"
     ]
    }
   ],
   "source": [
    "# importing Python library\n",
    "import numpy as np\n",
    "\n",
    "# define Unit Step Function\n",
    "def unitStep(v):\n",
    "    if v >= 0:\n",
    "        return 1\n",
    "    else:\n",
    "        return 0\n",
    "\n",
    "# design Perceptron Model\n",
    "def perceptronModel(x, w, b):\n",
    "    v = np.dot(w, x) + b\n",
    "    y = unitStep(v)\n",
    "    return y\n",
    "\n",
    "# NOT Logic Function\n",
    "# w = -1, b = 0.5\n",
    "def NOT_logicFunction(x):\n",
    "    w = -1\n",
    "    b = 0.5\n",
    "    return perceptronModel(x, w, b)\n",
    "\n",
    "# testing the Perceptron Model\n",
    "test1 = np.array(1)\n",
    "test2 = np.array(0)\n",
    "print(\"NOT({}) = {}\".format(1, NOT_logicFunction(test1)))\n",
    "print(\"NOT({}) = {}\".format(0, NOT_logicFunction(test2)))\n"
   ]
  },
  {
   "cell_type": "code",
   "execution_count": null,
   "id": "46d7b2cf",
   "metadata": {},
   "outputs": [],
   "source": []
  }
 ],
 "metadata": {
  "kernelspec": {
   "display_name": "Python 3 (ipykernel)",
   "language": "python",
   "name": "python3"
  },
  "language_info": {
   "codemirror_mode": {
    "name": "ipython",
    "version": 3
   },
   "file_extension": ".py",
   "mimetype": "text/x-python",
   "name": "python",
   "nbconvert_exporter": "python",
   "pygments_lexer": "ipython3",
   "version": "3.11.5"
  }
 },
 "nbformat": 4,
 "nbformat_minor": 5
}
