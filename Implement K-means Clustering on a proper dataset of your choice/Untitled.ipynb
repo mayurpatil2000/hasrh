{
 "cells": [
  {
   "cell_type": "code",
   "execution_count": 1,
   "id": "3641affb",
   "metadata": {},
   "outputs": [
    {
     "data": {
      "text/html": [
       "<div>\n",
       "<style scoped>\n",
       "    .dataframe tbody tr th:only-of-type {\n",
       "        vertical-align: middle;\n",
       "    }\n",
       "\n",
       "    .dataframe tbody tr th {\n",
       "        vertical-align: top;\n",
       "    }\n",
       "\n",
       "    .dataframe thead th {\n",
       "        text-align: right;\n",
       "    }\n",
       "</style>\n",
       "<table border=\"1\" class=\"dataframe\">\n",
       "  <thead>\n",
       "    <tr style=\"text-align: right;\">\n",
       "      <th></th>\n",
       "      <th>sid</th>\n",
       "      <th>state</th>\n",
       "      <th>crime</th>\n",
       "      <th>murder</th>\n",
       "      <th>pctmetro</th>\n",
       "      <th>pctwhite</th>\n",
       "      <th>pcths</th>\n",
       "      <th>poverty</th>\n",
       "      <th>single</th>\n",
       "    </tr>\n",
       "  </thead>\n",
       "  <tbody>\n",
       "    <tr>\n",
       "      <th>0</th>\n",
       "      <td>1.0</td>\n",
       "      <td>ak</td>\n",
       "      <td>761</td>\n",
       "      <td>9.0</td>\n",
       "      <td>41.799999</td>\n",
       "      <td>75.199997</td>\n",
       "      <td>86.599998</td>\n",
       "      <td>9.100000</td>\n",
       "      <td>14.3</td>\n",
       "    </tr>\n",
       "    <tr>\n",
       "      <th>1</th>\n",
       "      <td>2.0</td>\n",
       "      <td>al</td>\n",
       "      <td>780</td>\n",
       "      <td>11.6</td>\n",
       "      <td>67.400002</td>\n",
       "      <td>73.500000</td>\n",
       "      <td>66.900002</td>\n",
       "      <td>17.400000</td>\n",
       "      <td>11.5</td>\n",
       "    </tr>\n",
       "    <tr>\n",
       "      <th>2</th>\n",
       "      <td>3.0</td>\n",
       "      <td>ar</td>\n",
       "      <td>593</td>\n",
       "      <td>10.2</td>\n",
       "      <td>44.700001</td>\n",
       "      <td>82.900002</td>\n",
       "      <td>66.300003</td>\n",
       "      <td>20.000000</td>\n",
       "      <td>10.7</td>\n",
       "    </tr>\n",
       "    <tr>\n",
       "      <th>3</th>\n",
       "      <td>4.0</td>\n",
       "      <td>az</td>\n",
       "      <td>715</td>\n",
       "      <td>8.6</td>\n",
       "      <td>84.699997</td>\n",
       "      <td>88.599998</td>\n",
       "      <td>78.699997</td>\n",
       "      <td>15.400000</td>\n",
       "      <td>12.1</td>\n",
       "    </tr>\n",
       "    <tr>\n",
       "      <th>4</th>\n",
       "      <td>5.0</td>\n",
       "      <td>ca</td>\n",
       "      <td>1078</td>\n",
       "      <td>13.1</td>\n",
       "      <td>96.699997</td>\n",
       "      <td>79.300003</td>\n",
       "      <td>76.199997</td>\n",
       "      <td>18.200001</td>\n",
       "      <td>12.5</td>\n",
       "    </tr>\n",
       "  </tbody>\n",
       "</table>\n",
       "</div>"
      ],
      "text/plain": [
       "   sid state  crime  murder   pctmetro   pctwhite      pcths    poverty  \\\n",
       "0  1.0    ak    761     9.0  41.799999  75.199997  86.599998   9.100000   \n",
       "1  2.0    al    780    11.6  67.400002  73.500000  66.900002  17.400000   \n",
       "2  3.0    ar    593    10.2  44.700001  82.900002  66.300003  20.000000   \n",
       "3  4.0    az    715     8.6  84.699997  88.599998  78.699997  15.400000   \n",
       "4  5.0    ca   1078    13.1  96.699997  79.300003  76.199997  18.200001   \n",
       "\n",
       "   single  \n",
       "0    14.3  \n",
       "1    11.5  \n",
       "2    10.7  \n",
       "3    12.1  \n",
       "4    12.5  "
      ]
     },
     "execution_count": 1,
     "metadata": {},
     "output_type": "execute_result"
    }
   ],
   "source": [
    "import pandas as pd # for Data Manipulation\n",
    "import matplotlib.pyplot as plt # for Visualization\n",
    "import numpy as np #for Mathematical calculations\n",
    "import seaborn as sns #for Advanced visualizations\n",
    "crime = pd.read_csv(\"crime_data.csv\")\n",
    "crime.head()"
   ]
  },
  {
   "cell_type": "code",
   "execution_count": 2,
   "id": "26998187",
   "metadata": {
    "scrolled": false
   },
   "outputs": [
    {
     "name": "stdout",
     "output_type": "stream",
     "text": [
      "Index(['sid', 'state', 'crime', 'murder', 'pctmetro', 'pctwhite', 'pcths',\n",
      "       'poverty', 'single'],\n",
      "      dtype='object')\n",
      "State       0.000000\n",
      "crime       2.921442\n",
      "murder      5.722607\n",
      "pctmetro   -0.426589\n",
      "dtype: float64\n",
      "State       -1.200000\n",
      "crime       14.207323\n",
      "murder      37.383084\n",
      "pctmetro    -0.928537\n",
      "dtype: float64\n"
     ]
    },
    {
     "data": {
      "image/png": "[encoded data removed]",
      "text/plain": [
       "<Figure size 640x480 with 1 Axes>"
      ]
     },
     "metadata": {},
     "output_type": "display_data"
    }
   ],
   "source": [
    "import pandas as pd\n",
    "import matplotlib.pyplot as plt\n",
    "\n",
    "# Assuming you have loaded your dataset into the 'crime' DataFrame\n",
    "# If not, load your dataset using: crime = pd.read_csv(\"your_dataset.csv\")\n",
    "\n",
    "# Display the original columns in the dataset\n",
    "print(crime.columns)\n",
    "\n",
    "# Create a new 'State' column and rearrange the DataFrame\n",
    "crime['State'] = crime.iloc[:, 0]\n",
    "crime = crime[['State', 'state', 'crime', 'murder', 'pctmetro']]  # Adjust column names accordingly\n",
    "\n",
    "def norm_func(i):\n",
    "    x = (i - i.min()) / (i.max() - i.min())\n",
    "    return x\n",
    "\n",
    "# Select only numeric columns\n",
    "numeric_columns = crime.select_dtypes(include=[np.number]).columns\n",
    "\n",
    "# Normalized data frame (considering the numerical part of data)\n",
    "df_norm = crime[numeric_columns].apply(norm_func)\n",
    "\n",
    "# Univariate histograms\n",
    "plt.hist(df_norm[\"crime\"])\n",
    "plt.hist(df_norm[\"murder\"])\n",
    "plt.hist(df_norm[\"pctmetro\"])\n",
    "\n",
    "# Display skewness and kurtosis\n",
    "print(df_norm.skew(axis=0, skipna=True))\n",
    "print(df_norm.kurtosis(axis=0, skipna=True))\n",
    "\n",
    "plt.show()\n"
   ]
  },
  {
   "cell_type": "code",
   "execution_count": 3,
   "id": "6f689f1b",
   "metadata": {},
   "outputs": [
    {
     "name": "stderr",
     "output_type": "stream",
     "text": [
      "C:\\Users\\HP\\anaconda3\\Lib\\site-packages\\sklearn\\cluster\\_kmeans.py:1412: FutureWarning: The default value of `n_init` will change from 10 to 'auto' in 1.4. Set the value of `n_init` explicitly to suppress the warning\n",
      "  super()._check_params_vs_input(X, default_n_init=10)\n",
      "C:\\Users\\HP\\anaconda3\\Lib\\site-packages\\sklearn\\cluster\\_kmeans.py:1436: UserWarning: KMeans is known to have a memory leak on Windows with MKL, when there are less chunks than available threads. You can avoid it by setting the environment variable OMP_NUM_THREADS=1.\n",
      "  warnings.warn(\n",
      "C:\\Users\\HP\\anaconda3\\Lib\\site-packages\\sklearn\\cluster\\_kmeans.py:1412: FutureWarning: The default value of `n_init` will change from 10 to 'auto' in 1.4. Set the value of `n_init` explicitly to suppress the warning\n",
      "  super()._check_params_vs_input(X, default_n_init=10)\n",
      "C:\\Users\\HP\\anaconda3\\Lib\\site-packages\\sklearn\\cluster\\_kmeans.py:1436: UserWarning: KMeans is known to have a memory leak on Windows with MKL, when there are less chunks than available threads. You can avoid it by setting the environment variable OMP_NUM_THREADS=1.\n",
      "  warnings.warn(\n",
      "C:\\Users\\HP\\anaconda3\\Lib\\site-packages\\sklearn\\cluster\\_kmeans.py:1412: FutureWarning: The default value of `n_init` will change from 10 to 'auto' in 1.4. Set the value of `n_init` explicitly to suppress the warning\n",
      "  super()._check_params_vs_input(X, default_n_init=10)\n",
      "C:\\Users\\HP\\anaconda3\\Lib\\site-packages\\sklearn\\cluster\\_kmeans.py:1436: UserWarning: KMeans is known to have a memory leak on Windows with MKL, when there are less chunks than available threads. You can avoid it by setting the environment variable OMP_NUM_THREADS=1.\n",
      "  warnings.warn(\n",
      "C:\\Users\\HP\\anaconda3\\Lib\\site-packages\\sklearn\\cluster\\_kmeans.py:1412: FutureWarning: The default value of `n_init` will change from 10 to 'auto' in 1.4. Set the value of `n_init` explicitly to suppress the warning\n",
      "  super()._check_params_vs_input(X, default_n_init=10)\n",
      "C:\\Users\\HP\\anaconda3\\Lib\\site-packages\\sklearn\\cluster\\_kmeans.py:1436: UserWarning: KMeans is known to have a memory leak on Windows with MKL, when there are less chunks than available threads. You can avoid it by setting the environment variable OMP_NUM_THREADS=1.\n",
      "  warnings.warn(\n",
      "C:\\Users\\HP\\anaconda3\\Lib\\site-packages\\sklearn\\cluster\\_kmeans.py:1412: FutureWarning: The default value of `n_init` will change from 10 to 'auto' in 1.4. Set the value of `n_init` explicitly to suppress the warning\n",
      "  super()._check_params_vs_input(X, default_n_init=10)\n",
      "C:\\Users\\HP\\anaconda3\\Lib\\site-packages\\sklearn\\cluster\\_kmeans.py:1436: UserWarning: KMeans is known to have a memory leak on Windows with MKL, when there are less chunks than available threads. You can avoid it by setting the environment variable OMP_NUM_THREADS=1.\n",
      "  warnings.warn(\n",
      "C:\\Users\\HP\\anaconda3\\Lib\\site-packages\\sklearn\\cluster\\_kmeans.py:1412: FutureWarning: The default value of `n_init` will change from 10 to 'auto' in 1.4. Set the value of `n_init` explicitly to suppress the warning\n",
      "  super()._check_params_vs_input(X, default_n_init=10)\n",
      "C:\\Users\\HP\\anaconda3\\Lib\\site-packages\\sklearn\\cluster\\_kmeans.py:1436: UserWarning: KMeans is known to have a memory leak on Windows with MKL, when there are less chunks than available threads. You can avoid it by setting the environment variable OMP_NUM_THREADS=1.\n",
      "  warnings.warn(\n"
     ]
    },
    {
     "data": {
      "text/plain": [
       "[7.363125677833954,\n",
       " 4.901870769300938,\n",
       " 3.3486611906824657,\n",
       " 2.365685429692602,\n",
       " 1.883307381453747,\n",
       " 1.603130080931139]"
      ]
     },
     "execution_count": 3,
     "metadata": {},
     "output_type": "execute_result"
    }
   ],
   "source": [
    "# calculating TWSS - Total within SS using different cluster range\n",
    "from sklearn.cluster import KMeans\n",
    "\n",
    "TWSS = []\n",
    "k = list(range(2, 8))\n",
    "\n",
    "for i in k:\n",
    "    kmeans = KMeans(n_clusters=i)\n",
    "    kmeans.fit(df_norm)\n",
    "    TWSS.append(kmeans.inertia_)\n",
    "\n",
    "TWSS\n"
   ]
  },
  {
   "cell_type": "code",
   "execution_count": 4,
   "id": "4f8749d6",
   "metadata": {},
   "outputs": [
    {
     "data": {
      "text/plain": [
       "Text(0, 0.5, 'total_within_SS')"
      ]
     },
     "execution_count": 4,
     "metadata": {},
     "output_type": "execute_result"
    },
    {
     "data": {
      "image/png": "[encoded data removed]",
      "text/plain": [
       "<Figure size 640x480 with 1 Axes>"
      ]
     },
     "metadata": {},
     "output_type": "display_data"
    }
   ],
   "source": [
    "# Plotting the Scree plot using the TWSS from above defined function\n",
    "plt.plot(k, TWSS, 'ro-');plt.xlabel(\"No_of_Clusters\");plt.ylabel(\"total_within_SS\")"
   ]
  },
  {
   "cell_type": "code",
   "execution_count": 5,
   "id": "fb27255e",
   "metadata": {
    "scrolled": false
   },
   "outputs": [
    {
     "name": "stderr",
     "output_type": "stream",
     "text": [
      "C:\\Users\\HP\\anaconda3\\Lib\\site-packages\\sklearn\\cluster\\_kmeans.py:1412: FutureWarning: The default value of `n_init` will change from 10 to 'auto' in 1.4. Set the value of `n_init` explicitly to suppress the warning\n",
      "  super()._check_params_vs_input(X, default_n_init=10)\n",
      "C:\\Users\\HP\\anaconda3\\Lib\\site-packages\\sklearn\\cluster\\_kmeans.py:1436: UserWarning: KMeans is known to have a memory leak on Windows with MKL, when there are less chunks than available threads. You can avoid it by setting the environment variable OMP_NUM_THREADS=1.\n",
      "  warnings.warn(\n"
     ]
    },
    {
     "name": "stdout",
     "output_type": "stream",
     "text": [
      "           State  state        crime     murder    pctmetro\n",
      "clust                                                      \n",
      "0      11.850000    NaN   724.950000   9.020000   76.269999\n",
      "1      38.294118    NaN   626.470588   7.729412   77.417647\n",
      "2      29.769231    NaN   244.923077   4.215385   38.107692\n",
      "3      51.000000    NaN  2922.000000  78.500000  100.000000\n"
     ]
    }
   ],
   "source": [
    "from sklearn.cluster import KMeans\n",
    "import pandas as pd\n",
    "\n",
    "# Assuming df_norm is your normalized DataFrame\n",
    "model = KMeans(n_clusters=4)\n",
    "model.fit(df_norm)\n",
    "crime['clust'] = model.labels_  # Assigning cluster labels to the 'clust' column\n",
    "\n",
    "# Rearranging columns\n",
    "crime = crime.iloc[:, [5, 0, 1, 2, 3, 4]]\n",
    "crime.head()\n",
    "\n",
    "# Correcting the column selection\n",
    "numeric_columns = crime.columns[1:6]  # Assuming columns 1 through 5 are numeric\n",
    "\n",
    "# Convert non-numeric values to NaN\n",
    "crime[numeric_columns] = crime[numeric_columns].apply(pd.to_numeric, errors='coerce')\n",
    "\n",
    "# Calculating mean for each cluster (excluding non-numeric columns)\n",
    "cluster_means = crime.groupby('clust')[numeric_columns].mean()\n",
    "\n",
    "# Displaying the mean for each cluster\n",
    "print(cluster_means)\n"
   ]
  },
  {
   "cell_type": "code",
   "execution_count": null,
   "id": "48f0c49b",
   "metadata": {},
   "outputs": [],
   "source": []
  }
 ],
 "metadata": {
  "kernelspec": {
   "display_name": "Python 3 (ipykernel)",
   "language": "python",
   "name": "python3"
  },
  "language_info": {
   "codemirror_mode": {
    "name": "ipython",
    "version": 3
   },
   "file_extension": ".py",
   "mimetype": "text/x-python",
   "name": "python",
   "nbconvert_exporter": "python",
   "pygments_lexer": "ipython3",
   "version": "3.11.5"
  }
 },
 "nbformat": 4,
 "nbformat_minor": 5
}
